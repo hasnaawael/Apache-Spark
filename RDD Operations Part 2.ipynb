{
 "cells": [
  {
   "cell_type": "markdown",
   "metadata": {
    "application/vnd.databricks.v1+cell": {
     "cellMetadata": {},
     "inputWidgets": {},
     "nuid": "3d9fabd8-26bc-4b08-ba65-10b6268f2598",
     "showTitle": false,
     "title": ""
    }
   },
   "source": [
    "### Transformations 2\n",
    "##### join Function\n",
    "\n"
   ]
  },
  {
   "cell_type": "code",
   "execution_count": 0,
   "metadata": {
    "application/vnd.databricks.v1+cell": {
     "cellMetadata": {
      "byteLimit": 2048000,
      "rowLimit": 10000
     },
     "inputWidgets": {},
     "nuid": "2dad222a-26af-4007-b277-f38f73f03a8a",
     "showTitle": false,
     "title": ""
    }
   },
   "outputs": [
    {
     "output_type": "stream",
     "name": "stdout",
     "output_type": "stream",
     "text": [
      "01 join fruits_color_join (join two RDDs): [(1, ('apple', 'red')), (2, ('banana', 'yellow'))]\n"
     ]
    }
   ],
   "source": [
    "# 01 Example: Join two RDDs by key\n",
    "fruits = sc.parallelize([(1, \"apple\"), (2, \"banana\")])\n",
    "colors = sc.parallelize([(1, \"red\"), (2, \"yellow\")])\n",
    "fruits_color_join = fruits.join(colors).collect()\n",
    "print(\"01 join fruits_color_join (join two RDDs):\", fruits_color_join)"
   ]
  },
  {
   "cell_type": "code",
   "execution_count": 0,
   "metadata": {
    "application/vnd.databricks.v1+cell": {
     "cellMetadata": {
      "byteLimit": 2048000,
      "rowLimit": 10000
     },
     "inputWidgets": {},
     "nuid": "f5ed117e-beb3-40f5-ad50-86a3190ee954",
     "showTitle": false,
     "title": ""
    }
   },
   "outputs": [
    {
     "output_type": "stream",
     "name": "stdout",
     "output_type": "stream",
     "text": [
      "join example (employee-department join): [(1, ('John', 'HR')), (2, ('Jane', 'Finance'))]\n"
     ]
    }
   ],
   "source": [
    "# 02 Example: Join employee data with department data\n",
    "employees = sc.parallelize([(1, \"John\"), (2, \"Jane\"), (3, \"Joe\")])\n",
    "departments = sc.parallelize([(1, \"HR\"), (2, \"Finance\")])\n",
    "employees_department_join = employees.join(departments).collect()\n",
    "print(\"join example (employee-department join):\", employees_department_join)"
   ]
  },
  {
   "cell_type": "markdown",
   "metadata": {
    "application/vnd.databricks.v1+cell": {
     "cellMetadata": {},
     "inputWidgets": {},
     "nuid": "236b2789-0714-456a-95ff-87e7f2a2df74",
     "showTitle": false,
     "title": ""
    }
   },
   "source": [
    "##### cogroup Function\n",
    "- The cogroup function in PySpark is used to group data from two RDDs that share the same key. \n",
    "-  It combines the values of matching keys from both RDDs into a tuple of lists."
   ]
  },
  {
   "cell_type": "code",
   "execution_count": 0,
   "metadata": {
    "application/vnd.databricks.v1+cell": {
     "cellMetadata": {
      "byteLimit": 2048000,
      "rowLimit": 10000
     },
     "inputWidgets": {},
     "nuid": "79ba41a0-512a-4587-900f-bfd1a1511449",
     "showTitle": false,
     "title": ""
    }
   },
   "outputs": [
    {
     "output_type": "stream",
     "name": "stdout",
     "output_type": "stream",
     "text": [
      "01 cogroup example (group two RDDs): [(1, (['apple'], ['red'])), (2, (['banana'], ['yellow'])), (3, (['orange'], []))]\n"
     ]
    }
   ],
   "source": [
    "# 01 Example: Cogroup two RDDs\n",
    "fruits_rdd = sc.parallelize([(1, \"apple\"), (2, \"banana\"), (3, \"orange\")])\n",
    "colors_rdd = sc.parallelize([(1, \"red\"), (2, \"yellow\")])\n",
    "cogrouped_fruits_colors = fruits_rdd.cogroup(colors_rdd).mapValues(lambda x: (list(x[0]), list(x[1]))).collect()\n",
    "print(\"01 cogroup example (group two RDDs):\", cogrouped_fruits_colors)"
   ]
  },
  {
   "cell_type": "code",
   "execution_count": 0,
   "metadata": {
    "application/vnd.databricks.v1+cell": {
     "cellMetadata": {
      "byteLimit": 2048000,
      "rowLimit": 10000
     },
     "inputWidgets": {},
     "nuid": "5bf7b06d-873c-4445-aff6-f40454434b20",
     "showTitle": false,
     "title": ""
    }
   },
   "outputs": [
    {
     "output_type": "stream",
     "name": "stdout",
     "output_type": "stream",
     "text": [
      "example_cogroup example (sales-targets cogroup): [('store2', ([200], [])), ('store3', ([], [250])), ('store1', ([100], [150]))]\n"
     ]
    }
   ],
   "source": [
    "# 02 Example: Cogroup sales data with target data\n",
    "sales_rdd = sc.parallelize([(\"store1\", 100), (\"store2\", 200)])\n",
    "targets_rdd = sc.parallelize([(\"store1\", 150), (\"store3\", 250)])\n",
    "Cgrouped_sales_target = sales_rdd.cogroup(targets_rdd).mapValues(lambda x: (list(x[0]), list(x[1]))).collect()\n",
    "print(\"example_cogroup example (sales-targets cogroup):\", Cgrouped_sales_target)"
   ]
  },
  {
   "cell_type": "markdown",
   "metadata": {
    "application/vnd.databricks.v1+cell": {
     "cellMetadata": {},
     "inputWidgets": {},
     "nuid": "9dd3dd84-5a41-4536-ba47-6047aa0f463c",
     "showTitle": false,
     "title": ""
    }
   },
   "source": [
    "#### Main Differences between `cogroup` and `join` in RDDs\n",
    "\n",
    "##### Result\n",
    "\n",
    "- **Cogroup**: The result is a list of values (there can be more than one value for each key).\n",
    "- **Join**: The result is values in tuples (one-to-one matching).\n",
    "\n",
    "##### Keys\n",
    "\n",
    "- **Cogroup**: Handles all keys, even if they exist in only one RDD.\n",
    "- **Join**: Only handles keys shared between the two.\n",
    "\n",
    "##### Usage\n",
    "\n",
    "- **Cogroup**: Suitable when you want to collect all the values associated with a specific key from more than one data set.\n",
    "- **Join**: Suitable when you want to join two sets of data based on common values only.\n",
    "\n",
    "##### Practical Uses\n",
    "\n",
    "- **Cogroup**: Suitable when you need to collect multiple sales data from different sources on the same product, for example.\n",
    "- **Join**: Suitable when you need to obtain detailed data about specific sales, such as the price and date only for the products that were sold.\n"
   ]
  },
  {
   "cell_type": "markdown",
   "metadata": {
    "application/vnd.databricks.v1+cell": {
     "cellMetadata": {},
     "inputWidgets": {},
     "nuid": "56408d6f-5267-4279-af81-42faa8dea13c",
     "showTitle": false,
     "title": ""
    }
   },
   "source": [
    "##### distinct Function\n",
    "- Return a new RDD containing the distinct elements in this RDD"
   ]
  },
  {
   "cell_type": "code",
   "execution_count": 0,
   "metadata": {
    "application/vnd.databricks.v1+cell": {
     "cellMetadata": {
      "byteLimit": 2048000,
      "rowLimit": 10000
     },
     "inputWidgets": {},
     "nuid": "559f1ca2-8228-4ecb-96c9-29afb3e02372",
     "showTitle": false,
     "title": ""
    }
   },
   "outputs": [
    {
     "output_type": "stream",
     "name": "stdout",
     "output_type": "stream",
     "text": [
      "example_distinct example (unique words): ['elephant', 'dog', 'cat']\n"
     ]
    }
   ],
   "source": [
    "# example_Example: Unique words from a list of words\n",
    "words = [\"cat\", \"dog\", \"cat\", \"elephant\", \"dog\"]\n",
    "words_rdd = sc.parallelize(words)\n",
    "example__distinct = words_rdd.distinct().collect()\n",
    "print(\"example_distinct example (unique words):\", example__distinct)"
   ]
  }
 ],
 "metadata": {
  "application/vnd.databricks.v1+notebook": {
   "dashboards": [],
   "environmentMetadata": null,
   "language": "python",
   "notebookMetadata": {
    "pythonIndentUnit": 4
   },
   "notebookName": "RDD Operations Part 2",
   "widgets": {}
  }
 },
 "nbformat": 4,
 "nbformat_minor": 0
}
