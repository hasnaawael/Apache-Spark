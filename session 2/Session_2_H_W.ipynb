{
  "nbformat": 4,
  "nbformat_minor": 0,
  "metadata": {
    "colab": {
      "provenance": []
    },
    "kernelspec": {
      "name": "python3",
      "display_name": "Python 3"
    },
    "language_info": {
      "name": "python"
    }
  },
  "cells": [
    {
      "cell_type": "markdown",
      "metadata": {
        "id": "vIwZsU0haNkj"
      },
      "source": [
        "## Task 1 - SQL"
      ]
    },
    {
      "cell_type": "markdown",
      "metadata": {
        "id": "45wCuSvgajao"
      },
      "source": [
        "### Build SparkSession:"
      ]
    },
    {
      "cell_type": "code",
      "metadata": {
        "id": "JwcbnqiymCE3",
        "colab": {
          "base_uri": "https://localhost:8080/"
        },
        "outputId": "929492fe-edce-42dd-be9f-0a5ca9663bc7"
      },
      "source": [
        "pip install pyspark"
      ],
      "execution_count": null,
      "outputs": [
        {
          "output_type": "stream",
          "name": "stdout",
          "text": [
            "Collecting pyspark\n",
            "  Downloading pyspark-3.5.1.tar.gz (317.0 MB)\n",
            "\u001b[2K     \u001b[90m━━━━━━━━━━━━━━━━━━━━━━━━━━━━━━━━━━━━━━━━\u001b[0m \u001b[32m317.0/317.0 MB\u001b[0m \u001b[31m1.7 MB/s\u001b[0m eta \u001b[36m0:00:00\u001b[0m\n",
            "\u001b[?25h  Preparing metadata (setup.py) ... \u001b[?25l\u001b[?25hdone\n",
            "Requirement already satisfied: py4j==0.10.9.7 in /usr/local/lib/python3.10/dist-packages (from pyspark) (0.10.9.7)\n",
            "Building wheels for collected packages: pyspark\n",
            "  Building wheel for pyspark (setup.py) ... \u001b[?25l\u001b[?25hdone\n",
            "  Created wheel for pyspark: filename=pyspark-3.5.1-py2.py3-none-any.whl size=317488491 sha256=a1547ade14fd8a41a91ca4f6c5cdc4524e81df307c7d75f78ec13feadcfe7c14\n",
            "  Stored in directory: /root/.cache/pip/wheels/80/1d/60/2c256ed38dddce2fdd93be545214a63e02fbd8d74fb0b7f3a6\n",
            "Successfully built pyspark\n",
            "Installing collected packages: pyspark\n",
            "Successfully installed pyspark-3.5.1\n"
          ]
        }
      ]
    },
    {
      "cell_type": "code",
      "source": [
        "pip install findspark"
      ],
      "metadata": {
        "colab": {
          "base_uri": "https://localhost:8080/"
        },
        "id": "L1ASN1NHnNBK",
        "outputId": "761a8a5d-c179-440d-a641-e220d3dbad74"
      },
      "execution_count": null,
      "outputs": [
        {
          "output_type": "stream",
          "name": "stdout",
          "text": [
            "Collecting findspark\n",
            "  Downloading findspark-2.0.1-py2.py3-none-any.whl (4.4 kB)\n",
            "Installing collected packages: findspark\n",
            "Successfully installed findspark-2.0.1\n"
          ]
        }
      ]
    },
    {
      "cell_type": "code",
      "source": [
        "import findspark\n",
        "findspark.init()\n",
        "from pyspark.sql import SparkSession"
      ],
      "metadata": {
        "id": "zPRkf-0ynNEi"
      },
      "execution_count": null,
      "outputs": []
    },
    {
      "cell_type": "code",
      "source": [
        "spark = (SparkSession\n",
        ".builder\n",
        ".appName(\"DataFrame\")\n",
        ".getOrCreate())"
      ],
      "metadata": {
        "id": "AMxMMcc-nNHd"
      },
      "execution_count": null,
      "outputs": []
    },
    {
      "cell_type": "markdown",
      "metadata": {
        "id": "g8HITwTqnJcX"
      },
      "source": [
        "### Read the json file:"
      ]
    },
    {
      "cell_type": "code",
      "metadata": {
        "id": "93iqAB7tnMYQ"
      },
      "source": [
        "df_json = (spark.read.format('json')\n",
        "          .option('inferSchema','true')\n",
        "          .option('header','true')\n",
        "          .load('/content/DataFrames_sample.json')\n",
        "         )"
      ],
      "execution_count": null,
      "outputs": []
    },
    {
      "cell_type": "code",
      "source": [
        "df_json.show()"
      ],
      "metadata": {
        "colab": {
          "base_uri": "https://localhost:8080/"
        },
        "id": "lHFx0MAqo9Oq",
        "outputId": "abb21846-4b10-46ab-a80c-2ea7b101612f"
      },
      "execution_count": null,
      "outputs": [
        {
          "output_type": "stream",
          "name": "stdout",
          "text": [
            "+----+----+---------+---+-----------+----+----------+-----+------+----+\n",
            "|   D|   H|      HDD| Id|      Model| RAM|ScreenSize|    W|Weight|Year|\n",
            "+----+----+---------+---+-----------+----+----------+-----+------+----+\n",
            "|9.48|0.61|512GB SSD|  1|MacBook Pro|16GB|       15\"|13.75|  4.02|2015|\n",
            "|7.74|0.52|256GB SSD|  2|    MacBook| 8GB|       12\"|11.04|  2.03|2016|\n",
            "|8.94|0.68|128GB SSD|  3|MacBook Air| 8GB|     13.3\"| 12.8|  2.96|2016|\n",
            "| 8.0|20.3|  1TB SSD|  4|       iMac|64GB|       27\"| 25.6|  20.8|2017|\n",
            "+----+----+---------+---+-----------+----+----------+-----+------+----+\n",
            "\n"
          ]
        }
      ]
    },
    {
      "cell_type": "markdown",
      "metadata": {
        "id": "jNx0qMfunbKX"
      },
      "source": [
        "### Display the schema:\n"
      ]
    },
    {
      "cell_type": "code",
      "metadata": {
        "id": "UG4CcVJenc9y",
        "colab": {
          "base_uri": "https://localhost:8080/"
        },
        "outputId": "3522fcc1-5290-4c6f-8719-f91e9de8d0dd"
      },
      "source": [
        "df_json.printSchema()"
      ],
      "execution_count": null,
      "outputs": [
        {
          "output_type": "stream",
          "name": "stdout",
          "text": [
            "root\n",
            " |-- D: double (nullable = true)\n",
            " |-- H: double (nullable = true)\n",
            " |-- HDD: string (nullable = true)\n",
            " |-- Id: long (nullable = true)\n",
            " |-- Model: string (nullable = true)\n",
            " |-- RAM: string (nullable = true)\n",
            " |-- ScreenSize: string (nullable = true)\n",
            " |-- W: double (nullable = true)\n",
            " |-- Weight: double (nullable = true)\n",
            " |-- Year: long (nullable = true)\n",
            "\n"
          ]
        }
      ]
    },
    {
      "cell_type": "markdown",
      "metadata": {
        "id": "Zaj0nHTcngEF"
      },
      "source": [
        "### Get all the data when \"Model\" equal \"MacBook Pro\":\n",
        "\n",
        "\n"
      ]
    },
    {
      "cell_type": "code",
      "source": [
        "df_json.createOrReplaceTempView(\"MyView\")"
      ],
      "metadata": {
        "id": "CJwFWE89qUnN"
      },
      "execution_count": null,
      "outputs": []
    },
    {
      "cell_type": "code",
      "source": [
        "df_snapshot1 = spark.sql(\"\"\" SELECT * FROM MyView\n",
        "WHERE Model = 'MacBook Pro'\n",
        "\"\"\")\n",
        "df_snapshot1.show(5)"
      ],
      "metadata": {
        "colab": {
          "base_uri": "https://localhost:8080/"
        },
        "id": "-c8JlPdzqVqX",
        "outputId": "676bac65-1fc9-4ccb-8685-28aa32a234ee"
      },
      "execution_count": null,
      "outputs": [
        {
          "output_type": "stream",
          "name": "stdout",
          "text": [
            "+----+----+---------+---+-----------+----+----------+-----+------+----+\n",
            "|   D|   H|      HDD| Id|      Model| RAM|ScreenSize|    W|Weight|Year|\n",
            "+----+----+---------+---+-----------+----+----------+-----+------+----+\n",
            "|9.48|0.61|512GB SSD|  1|MacBook Pro|16GB|       15\"|13.75|  4.02|2015|\n",
            "+----+----+---------+---+-----------+----+----------+-----+------+----+\n",
            "\n"
          ]
        }
      ]
    },
    {
      "cell_type": "markdown",
      "metadata": {
        "id": "dCLMmjRLdjbT"
      },
      "source": [
        "### Display \"RAM\"column and count \"RAM\" column:"
      ]
    },
    {
      "cell_type": "code",
      "metadata": {
        "id": "BxykutRjuF0X",
        "colab": {
          "base_uri": "https://localhost:8080/"
        },
        "outputId": "82927b55-a1ae-4426-fd3a-ebe78eaa9224"
      },
      "source": [
        "df_snapshot2 = spark.sql(\"\"\" SELECT RAM, COUNT(*) as count FROM MyView GROUP BY RAM \"\"\")\n",
        "df_snapshot2.show()"
      ],
      "execution_count": null,
      "outputs": [
        {
          "output_type": "stream",
          "name": "stdout",
          "text": [
            "+----+-----+\n",
            "| RAM|count|\n",
            "+----+-----+\n",
            "|64GB|    1|\n",
            "|16GB|    1|\n",
            "| 8GB|    2|\n",
            "+----+-----+\n",
            "\n"
          ]
        }
      ]
    },
    {
      "cell_type": "markdown",
      "metadata": {
        "id": "b5nlwq4t9gvK"
      },
      "source": [
        "### Get all columns when \"Year\" column equal \"2015\"  "
      ]
    },
    {
      "cell_type": "code",
      "metadata": {
        "id": "WXxjFxN19hJl",
        "colab": {
          "base_uri": "https://localhost:8080/"
        },
        "outputId": "94b5cf60-c6b5-4adb-c056-3f1d509c1cd2"
      },
      "source": [
        "df_snapshot3 = spark.sql(\"\"\" SELECT * FROM MyView WHERE Year = 2015 \"\"\")\n",
        "df_snapshot3.show()"
      ],
      "execution_count": null,
      "outputs": [
        {
          "output_type": "stream",
          "name": "stdout",
          "text": [
            "+----+----+---------+---+-----------+----+----------+-----+------+----+\n",
            "|   D|   H|      HDD| Id|      Model| RAM|ScreenSize|    W|Weight|Year|\n",
            "+----+----+---------+---+-----------+----+----------+-----+------+----+\n",
            "|9.48|0.61|512GB SSD|  1|MacBook Pro|16GB|       15\"|13.75|  4.02|2015|\n",
            "+----+----+---------+---+-----------+----+----------+-----+------+----+\n",
            "\n"
          ]
        }
      ]
    },
    {
      "cell_type": "markdown",
      "metadata": {
        "id": "JHjK2Kqfuv24"
      },
      "source": [
        "### Get all when \"Model\" start with \"M\":"
      ]
    },
    {
      "cell_type": "code",
      "metadata": {
        "id": "m30EkY_iu1Gs",
        "colab": {
          "base_uri": "https://localhost:8080/"
        },
        "outputId": "c63cb08f-666b-410f-876e-758575ad9e49"
      },
      "source": [
        "df_snapshot4 = spark.sql(\"\"\" SELECT * FROM MyView WHERE Model LIKE 'M%' \"\"\")\n",
        "df_snapshot4.show()"
      ],
      "execution_count": null,
      "outputs": [
        {
          "output_type": "stream",
          "name": "stdout",
          "text": [
            "+----+----+---------+---+-----------+----+----------+-----+------+----+\n",
            "|   D|   H|      HDD| Id|      Model| RAM|ScreenSize|    W|Weight|Year|\n",
            "+----+----+---------+---+-----------+----+----------+-----+------+----+\n",
            "|9.48|0.61|512GB SSD|  1|MacBook Pro|16GB|       15\"|13.75|  4.02|2015|\n",
            "|7.74|0.52|256GB SSD|  2|    MacBook| 8GB|       12\"|11.04|  2.03|2016|\n",
            "|8.94|0.68|128GB SSD|  3|MacBook Air| 8GB|     13.3\"| 12.8|  2.96|2016|\n",
            "+----+----+---------+---+-----------+----+----------+-----+------+----+\n",
            "\n"
          ]
        }
      ]
    },
    {
      "cell_type": "markdown",
      "metadata": {
        "id": "OZIlmJidw1Ep"
      },
      "source": [
        "### Get all data with Multiple Conditions when \"RAM\" column equal \"8GB\" and \"Model\" column is \"Macbook\"."
      ]
    },
    {
      "cell_type": "code",
      "metadata": {
        "id": "-5T7roxgnBBV",
        "colab": {
          "base_uri": "https://localhost:8080/"
        },
        "outputId": "8018bb49-6354-4442-a888-21b99cac45d9"
      },
      "source": [
        "df_snapshot5 = spark.sql(\"\"\" SELECT * FROM MyView WHERE RAM = '8GB' AND Model = 'MacBook' \"\"\")\n",
        "df_snapshot5.show()"
      ],
      "execution_count": null,
      "outputs": [
        {
          "output_type": "stream",
          "name": "stdout",
          "text": [
            "+----+----+---------+---+-------+---+----------+-----+------+----+\n",
            "|   D|   H|      HDD| Id|  Model|RAM|ScreenSize|    W|Weight|Year|\n",
            "+----+----+---------+---+-------+---+----------+-----+------+----+\n",
            "|7.74|0.52|256GB SSD|  2|MacBook|8GB|       12\"|11.04|  2.03|2016|\n",
            "+----+----+---------+---+-------+---+----------+-----+------+----+\n",
            "\n"
          ]
        }
      ]
    },
    {
      "cell_type": "markdown",
      "metadata": {
        "id": "qk8YPAWQ8HxI"
      },
      "source": [
        "### Get all data with Multiple Conditions when \"D\" greater than or equal \"8\" and \"Model\" column is \"iMac\"."
      ]
    },
    {
      "cell_type": "code",
      "metadata": {
        "id": "XDHJSpQK9MuS",
        "colab": {
          "base_uri": "https://localhost:8080/"
        },
        "outputId": "384f3196-6fa3-4385-cefa-77108ed18240"
      },
      "source": [
        "df_snapshot6 = spark.sql(\"\"\" SELECT * FROM MyView WHERE D > 8 or D = 8  AND Model = 'iMac' \"\"\")\n",
        "df_snapshot6.show()"
      ],
      "execution_count": null,
      "outputs": [
        {
          "output_type": "stream",
          "name": "stdout",
          "text": [
            "+----+----+---------+---+-----------+----+----------+-----+------+----+\n",
            "|   D|   H|      HDD| Id|      Model| RAM|ScreenSize|    W|Weight|Year|\n",
            "+----+----+---------+---+-----------+----+----------+-----+------+----+\n",
            "|9.48|0.61|512GB SSD|  1|MacBook Pro|16GB|       15\"|13.75|  4.02|2015|\n",
            "|8.94|0.68|128GB SSD|  3|MacBook Air| 8GB|     13.3\"| 12.8|  2.96|2016|\n",
            "| 8.0|20.3|  1TB SSD|  4|       iMac|64GB|       27\"| 25.6|  20.8|2017|\n",
            "+----+----+---------+---+-----------+----+----------+-----+------+----+\n",
            "\n"
          ]
        }
      ]
    },
    {
      "cell_type": "markdown",
      "metadata": {
        "id": "5d6364f6"
      },
      "source": [
        "## Task 2\n"
      ]
    },
    {
      "cell_type": "markdown",
      "metadata": {
        "id": "rlWhDvTPfZgu"
      },
      "source": [
        "### Read \"test1\" dataset:"
      ]
    },
    {
      "cell_type": "code",
      "metadata": {
        "id": "7964d064"
      },
      "source": [
        "df1 = (spark.read.format('csv')\n",
        "          .option('inferSchema','true')\n",
        "          .option('header','true')\n",
        "          .load('/content/test1.csv')\n",
        "         )"
      ],
      "execution_count": null,
      "outputs": []
    },
    {
      "cell_type": "code",
      "source": [
        "df1.printSchema()"
      ],
      "metadata": {
        "colab": {
          "base_uri": "https://localhost:8080/"
        },
        "id": "NKfG0MeIy0b8",
        "outputId": "6867e6e9-ec11-4217-c258-fcf89350b922"
      },
      "execution_count": null,
      "outputs": [
        {
          "output_type": "stream",
          "name": "stdout",
          "text": [
            "root\n",
            " |-- Name: string (nullable = true)\n",
            " |-- age: integer (nullable = true)\n",
            " |-- Experience: integer (nullable = true)\n",
            " |-- Salary: integer (nullable = true)\n",
            "\n"
          ]
        }
      ]
    },
    {
      "cell_type": "code",
      "source": [
        "df1.show()"
      ],
      "metadata": {
        "colab": {
          "base_uri": "https://localhost:8080/"
        },
        "id": "sxD7gnb1zRRv",
        "outputId": "ce656e8c-7c5a-4e57-d7bd-76734938bd5f"
      },
      "execution_count": null,
      "outputs": [
        {
          "output_type": "stream",
          "name": "stdout",
          "text": [
            "+---------+---+----------+------+\n",
            "|     Name|age|Experience|Salary|\n",
            "+---------+---+----------+------+\n",
            "|    Krish| 31|        10| 30000|\n",
            "|Sudhanshu| 30|         8| 25000|\n",
            "|    Sunny| 29|         4| 20000|\n",
            "|     Paul| 24|         3| 20000|\n",
            "|   Harsha| 21|         1| 15000|\n",
            "|  Shubham| 23|         2| 18000|\n",
            "+---------+---+----------+------+\n",
            "\n"
          ]
        }
      ]
    },
    {
      "cell_type": "code",
      "source": [
        "df1.createOrReplaceTempView(\"MyView2\")"
      ],
      "metadata": {
        "id": "xDBOmw-yy0hI"
      },
      "execution_count": null,
      "outputs": []
    },
    {
      "cell_type": "markdown",
      "metadata": {
        "id": "EJKjDOKHfnCt"
      },
      "source": [
        "### Display Salary of the people less than or equal to 20000"
      ]
    },
    {
      "cell_type": "code",
      "metadata": {
        "id": "c21edffc",
        "colab": {
          "base_uri": "https://localhost:8080/"
        },
        "outputId": "0092910c-e18b-4239-a5dc-bf7a3c6eb024"
      },
      "source": [
        "t1 = spark.sql(\"\"\" SELECT * FROM MyView2 WHERE Salary = 20000 OR Salary < 20000 \"\"\")\n",
        "t1.show()"
      ],
      "execution_count": null,
      "outputs": [
        {
          "output_type": "stream",
          "name": "stdout",
          "text": [
            "+-------+---+----------+------+\n",
            "|   Name|age|Experience|Salary|\n",
            "+-------+---+----------+------+\n",
            "|  Sunny| 29|         4| 20000|\n",
            "|   Paul| 24|         3| 20000|\n",
            "| Harsha| 21|         1| 15000|\n",
            "|Shubham| 23|         2| 18000|\n",
            "+-------+---+----------+------+\n",
            "\n"
          ]
        }
      ]
    },
    {
      "cell_type": "markdown",
      "metadata": {
        "id": "OvFWNFJjf0Pq"
      },
      "source": [
        "### Display Salary of the people less than or equal to 20000 and greater than or equal 15000"
      ]
    },
    {
      "cell_type": "code",
      "metadata": {
        "id": "26f76ee1",
        "colab": {
          "base_uri": "https://localhost:8080/"
        },
        "outputId": "194d2d83-f889-4b2f-9de3-8653e55e9589"
      },
      "source": [
        "t2 = spark.sql(\"\"\" SELECT * FROM MyView2 WHERE Salary <= 20000 AND Salary >= 15000 \"\"\")\n",
        "t2.show()"
      ],
      "execution_count": null,
      "outputs": [
        {
          "output_type": "stream",
          "name": "stdout",
          "text": [
            "+-------+---+----------+------+\n",
            "|   Name|age|Experience|Salary|\n",
            "+-------+---+----------+------+\n",
            "|  Sunny| 29|         4| 20000|\n",
            "|   Paul| 24|         3| 20000|\n",
            "| Harsha| 21|         1| 15000|\n",
            "|Shubham| 23|         2| 18000|\n",
            "+-------+---+----------+------+\n",
            "\n"
          ]
        }
      ]
    },
    {
      "cell_type": "markdown",
      "metadata": {
        "id": "9VAcIXkTgN9D"
      },
      "source": [
        "## Task 3"
      ]
    },
    {
      "cell_type": "markdown",
      "metadata": {
        "id": "uOeqRO2KgW34"
      },
      "source": [
        "### Read \"test3\" dataset:"
      ]
    },
    {
      "cell_type": "code",
      "metadata": {
        "id": "4d3bd081"
      },
      "source": [
        "df2 = (spark.read.format('csv')\n",
        "          .option('inferSchema','true')\n",
        "          .option('header','true')\n",
        "          .load('/content/test3.csv')\n",
        "         )"
      ],
      "execution_count": null,
      "outputs": []
    },
    {
      "cell_type": "markdown",
      "metadata": {
        "id": "ejyUT1rngdeR"
      },
      "source": [
        "### Display dataset"
      ]
    },
    {
      "cell_type": "code",
      "metadata": {
        "id": "7ed791ed",
        "colab": {
          "base_uri": "https://localhost:8080/"
        },
        "outputId": "927ddb85-91e9-49ee-9f2e-c7f373bcf334"
      },
      "source": [
        "df2.show()"
      ],
      "execution_count": null,
      "outputs": [
        {
          "output_type": "stream",
          "name": "stdout",
          "text": [
            "+---------+------------+------+\n",
            "|     Name| Departments|salary|\n",
            "+---------+------------+------+\n",
            "|    Krish|Data Science| 10000|\n",
            "|    Krish|         IOT|  5000|\n",
            "|   Mahesh|    Big Data|  4000|\n",
            "|    Krish|    Big Data|  4000|\n",
            "|   Mahesh|Data Science|  3000|\n",
            "|Sudhanshu|Data Science| 20000|\n",
            "|Sudhanshu|         IOT| 10000|\n",
            "|Sudhanshu|    Big Data|  5000|\n",
            "|    Sunny|Data Science| 10000|\n",
            "|    Sunny|    Big Data|  2000|\n",
            "+---------+------------+------+\n",
            "\n"
          ]
        }
      ]
    },
    {
      "cell_type": "markdown",
      "metadata": {
        "id": "Xp42YtorghXJ"
      },
      "source": [
        "### Display schema"
      ]
    },
    {
      "cell_type": "code",
      "metadata": {
        "id": "d57d24ca",
        "colab": {
          "base_uri": "https://localhost:8080/"
        },
        "outputId": "a6a5529b-a307-422e-fb7e-e0a014e97a28"
      },
      "source": [
        "df2.printSchema()"
      ],
      "execution_count": null,
      "outputs": [
        {
          "output_type": "stream",
          "name": "stdout",
          "text": [
            "root\n",
            " |-- Name: string (nullable = true)\n",
            " |-- Departments: string (nullable = true)\n",
            " |-- salary: integer (nullable = true)\n",
            "\n"
          ]
        }
      ]
    },
    {
      "cell_type": "code",
      "source": [
        "df2.createOrReplaceTempView(\"MyView3\")"
      ],
      "metadata": {
        "id": "PYeExah03te-"
      },
      "execution_count": null,
      "outputs": []
    },
    {
      "cell_type": "markdown",
      "metadata": {
        "id": "PHxWeGCCgnww"
      },
      "source": [
        "### Group by \"Name\" column and using sum function on \"Name\" column"
      ]
    },
    {
      "cell_type": "code",
      "metadata": {
        "id": "f15f8197",
        "colab": {
          "base_uri": "https://localhost:8080/"
        },
        "outputId": "2d7b6d6f-cfa3-428f-a17e-c046d63cc591"
      },
      "source": [
        "snap1 = spark.sql(\"\"\" SELECT Name, SUM(Salary) AS Total_Salary\n",
        "FROM MyView3\n",
        "GROUP BY Name \"\"\")\n",
        "snap1.show()"
      ],
      "execution_count": null,
      "outputs": [
        {
          "output_type": "stream",
          "name": "stdout",
          "text": [
            "+---------+------------+\n",
            "|     Name|Total_Salary|\n",
            "+---------+------------+\n",
            "|Sudhanshu|       35000|\n",
            "|    Sunny|       12000|\n",
            "|    Krish|       19000|\n",
            "|   Mahesh|        7000|\n",
            "+---------+------------+\n",
            "\n"
          ]
        }
      ]
    },
    {
      "cell_type": "markdown",
      "metadata": {
        "id": "gWgkaU3bhUOL"
      },
      "source": [
        "### Group by \"Name\" column and using avg function on \"Name\" column"
      ]
    },
    {
      "cell_type": "code",
      "metadata": {
        "id": "fc122ace",
        "colab": {
          "base_uri": "https://localhost:8080/"
        },
        "outputId": "af553761-b235-4864-ef90-3a899308d37f"
      },
      "source": [
        "snap2 = spark.sql(\"\"\" SELECT Name, AVG(Salary) AS AVG_Salary\n",
        "FROM MyView3\n",
        "GROUP BY Name \"\"\")\n",
        "snap2.show()"
      ],
      "execution_count": null,
      "outputs": [
        {
          "output_type": "stream",
          "name": "stdout",
          "text": [
            "+---------+------------------+\n",
            "|     Name|        AVG_Salary|\n",
            "+---------+------------------+\n",
            "|Sudhanshu|11666.666666666666|\n",
            "|    Sunny|            6000.0|\n",
            "|    Krish| 6333.333333333333|\n",
            "|   Mahesh|            3500.0|\n",
            "+---------+------------------+\n",
            "\n"
          ]
        }
      ]
    },
    {
      "cell_type": "markdown",
      "metadata": {
        "id": "ARg_-WPKhfL5"
      },
      "source": [
        "### Group by \"Departments\" column and using sum function on \"Departments\" column"
      ]
    },
    {
      "cell_type": "code",
      "metadata": {
        "id": "151d2264",
        "colab": {
          "base_uri": "https://localhost:8080/"
        },
        "outputId": "b70cdeff-b4d8-46f5-dccc-8e6a4283b9fd"
      },
      "source": [
        "snap3 = spark.sql(\"\"\" SELECT Departments, SUM(Salary) AS Total_Salary\n",
        "FROM MyView3\n",
        "GROUP BY Departments \"\"\")\n",
        "snap3.show()"
      ],
      "execution_count": null,
      "outputs": [
        {
          "output_type": "stream",
          "name": "stdout",
          "text": [
            "+------------+------------+\n",
            "| Departments|Total_Salary|\n",
            "+------------+------------+\n",
            "|         IOT|       15000|\n",
            "|    Big Data|       15000|\n",
            "|Data Science|       43000|\n",
            "+------------+------------+\n",
            "\n"
          ]
        }
      ]
    },
    {
      "cell_type": "markdown",
      "metadata": {
        "id": "dfPs99wnhwGu"
      },
      "source": [
        "### Apply agg to using sum function get the total of salaries"
      ]
    },
    {
      "cell_type": "code",
      "metadata": {
        "id": "37b26cbe",
        "colab": {
          "base_uri": "https://localhost:8080/"
        },
        "outputId": "39aecaf4-17b3-4cf1-a0e2-c16133f1e929"
      },
      "source": [
        "snap4 = spark.sql(\"\"\" SELECT SUM(Salary) AS Total_Salary\n",
        "FROM MyView3\n",
        " \"\"\")\n",
        "snap4.show()"
      ],
      "execution_count": null,
      "outputs": [
        {
          "output_type": "stream",
          "name": "stdout",
          "text": [
            "+------------+\n",
            "|Total_Salary|\n",
            "+------------+\n",
            "|       73000|\n",
            "+------------+\n",
            "\n"
          ]
        }
      ]
    },
    {
      "cell_type": "markdown",
      "metadata": {
        "id": "SluXM6j-Gt9B"
      },
      "source": [
        "By Eng. Mostafa Soliman\n",
        "\n",
        "\n",
        "\n",
        "\n",
        "If you have questions, please feel free to ask.\n",
        "\n",
        "My Email : Mostafaali97@gmail.com\n",
        "\n",
        "My Whatsapp : +201110159713"
      ]
    },
    {
      "cell_type": "code",
      "source": [],
      "metadata": {
        "id": "0KLPkDDhYe3a"
      },
      "execution_count": null,
      "outputs": []
    }
  ]
}