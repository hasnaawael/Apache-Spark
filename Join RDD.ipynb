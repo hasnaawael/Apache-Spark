{
 "cells": [
  {
   "cell_type": "markdown",
   "metadata": {
    "application/vnd.databricks.v1+cell": {
     "cellMetadata": {
      "byteLimit": 2048000,
      "rowLimit": 10000
     },
     "inputWidgets": {},
     "nuid": "6b093458-fbec-4144-9767-207e7a635dc0",
     "showTitle": false,
     "title": ""
    }
   },
   "source": [
    "### Browse Databricks datasets"
   ]
  },
  {
   "cell_type": "code",
   "execution_count": 0,
   "metadata": {
    "application/vnd.databricks.v1+cell": {
     "cellMetadata": {},
     "inputWidgets": {},
     "nuid": "26e584ff-f8a7-43c7-a0b3-2b3527cc2cb9",
     "showTitle": false,
     "title": ""
    }
   },
   "outputs": [],
   "source": [
    "display(dbutils.fs.ls('/databricks-datasets'))\n"
   ]
  },
  {
   "cell_type": "markdown",
   "metadata": {
    "application/vnd.databricks.v1+cell": {
     "cellMetadata": {},
     "inputWidgets": {},
     "nuid": "97e8098c-b82a-4faf-91e6-1041c5db0a44",
     "showTitle": false,
     "title": ""
    }
   },
   "source": [
    "**fs**: is an object inside dbutils that represents a binary to manipulate the file system.<br>\n",
    "**ls**: is a function within fs used to browse the list of files and folders in a specified path"
   ]
  },
  {
   "cell_type": "markdown",
   "metadata": {
    "application/vnd.databricks.v1+cell": {
     "cellMetadata": {},
     "inputWidgets": {},
     "nuid": "39513658-48d5-4e33-a42a-70e015d24aba",
     "showTitle": false,
     "title": ""
    }
   },
   "source": [
    "### TPCH Data Analysis tpch"
   ]
  },
  {
   "cell_type": "code",
   "execution_count": 0,
   "metadata": {
    "application/vnd.databricks.v1+cell": {
     "cellMetadata": {
      "byteLimit": 2048000,
      "rowLimit": 10000
     },
     "inputWidgets": {},
     "nuid": "2788a7e8-0f34-4b5f-b329-2cfeed08d220",
     "showTitle": false,
     "title": ""
    }
   },
   "outputs": [
    {
     "output_type": "display_data",
     "data": {
      "text/html": [
       "<style scoped>\n",
       "  .table-result-container {\n",
       "    max-height: 300px;\n",
       "    overflow: auto;\n",
       "  }\n",
       "  table, th, td {\n",
       "    border: 1px solid black;\n",
       "    border-collapse: collapse;\n",
       "  }\n",
       "  th, td {\n",
       "    padding: 5px;\n",
       "  }\n",
       "  th {\n",
       "    text-align: left;\n",
       "  }\n",
       "</style><div class='table-result-container'><table class='table-result'><thead style='background-color: white'><tr><th>path</th><th>name</th><th>size</th><th>modificationTime</th></tr></thead><tbody><tr><td>dbfs:/databricks-datasets/tpch/data-001/README.md</td><td>README.md</td><td>236</td><td>1419281876000</td></tr><tr><td>dbfs:/databricks-datasets/tpch/data-001/customer/</td><td>customer/</td><td>0</td><td>0</td></tr><tr><td>dbfs:/databricks-datasets/tpch/data-001/lineitem/</td><td>lineitem/</td><td>0</td><td>0</td></tr><tr><td>dbfs:/databricks-datasets/tpch/data-001/nation/</td><td>nation/</td><td>0</td><td>0</td></tr><tr><td>dbfs:/databricks-datasets/tpch/data-001/orders/</td><td>orders/</td><td>0</td><td>0</td></tr><tr><td>dbfs:/databricks-datasets/tpch/data-001/part/</td><td>part/</td><td>0</td><td>0</td></tr><tr><td>dbfs:/databricks-datasets/tpch/data-001/partsupp/</td><td>partsupp/</td><td>0</td><td>0</td></tr><tr><td>dbfs:/databricks-datasets/tpch/data-001/region/</td><td>region/</td><td>0</td><td>0</td></tr><tr><td>dbfs:/databricks-datasets/tpch/data-001/supplier/</td><td>supplier/</td><td>0</td><td>0</td></tr></tbody></table></div>"
      ]
     },
     "metadata": {
      "application/vnd.databricks.v1+output": {
       "addedWidgets": {},
       "aggData": [],
       "aggError": "",
       "aggOverflow": false,
       "aggSchema": [],
       "aggSeriesLimitReached": false,
       "aggType": "",
       "arguments": {},
       "columnCustomDisplayInfos": {},
       "data": [
        [
         "dbfs:/databricks-datasets/tpch/data-001/README.md",
         "README.md",
         236,
         1419281876000
        ],
        [
         "dbfs:/databricks-datasets/tpch/data-001/customer/",
         "customer/",
         0,
         0
        ],
        [
         "dbfs:/databricks-datasets/tpch/data-001/lineitem/",
         "lineitem/",
         0,
         0
        ],
        [
         "dbfs:/databricks-datasets/tpch/data-001/nation/",
         "nation/",
         0,
         0
        ],
        [
         "dbfs:/databricks-datasets/tpch/data-001/orders/",
         "orders/",
         0,
         0
        ],
        [
         "dbfs:/databricks-datasets/tpch/data-001/part/",
         "part/",
         0,
         0
        ],
        [
         "dbfs:/databricks-datasets/tpch/data-001/partsupp/",
         "partsupp/",
         0,
         0
        ],
        [
         "dbfs:/databricks-datasets/tpch/data-001/region/",
         "region/",
         0,
         0
        ],
        [
         "dbfs:/databricks-datasets/tpch/data-001/supplier/",
         "supplier/",
         0,
         0
        ]
       ],
       "datasetInfos": [],
       "dbfsResultPath": null,
       "isJsonSchema": true,
       "metadata": {},
       "overflow": false,
       "plotOptions": {
        "customPlotOptions": {},
        "displayType": "table",
        "pivotAggregation": null,
        "pivotColumns": null,
        "xColumns": null,
        "yColumns": null
       },
       "removedWidgets": [],
       "schema": [
        {
         "metadata": "{}",
         "name": "path",
         "type": "\"string\""
        },
        {
         "metadata": "{}",
         "name": "name",
         "type": "\"string\""
        },
        {
         "metadata": "{}",
         "name": "size",
         "type": "\"long\""
        },
        {
         "metadata": "{}",
         "name": "modificationTime",
         "type": "\"long\""
        }
       ],
       "type": "table"
      }
     },
     "output_type": "display_data"
    }
   ],
   "source": [
    "display(dbutils.fs.ls(\"/databricks-datasets/tpch/data-001/\"))"
   ]
  },
  {
   "cell_type": "markdown",
   "metadata": {
    "application/vnd.databricks.v1+cell": {
     "cellMetadata": {},
     "inputWidgets": {},
     "nuid": "2e9d268a-a25e-4468-adea-df9a50d53699",
     "showTitle": false,
     "title": ""
    }
   },
   "source": [
    "### Analyze Parts dataset"
   ]
  },
  {
   "cell_type": "code",
   "execution_count": 0,
   "metadata": {
    "application/vnd.databricks.v1+cell": {
     "cellMetadata": {
      "byteLimit": 2048000,
      "rowLimit": 10000
     },
     "inputWidgets": {},
     "nuid": "54968f91-1d5f-4826-96bc-bee8f8076042",
     "showTitle": false,
     "title": ""
    }
   },
   "outputs": [
    {
     "output_type": "stream",
     "name": "stdout",
     "output_type": "stream",
     "text": [
      "Out[3]: ['1|goldenrod lavender spring chocolate lace|Manufacturer#1|Brand#13|PROMO BURNISHED COPPER|7|JUMBO PKG|901.00|ly. slyly ironi|',\n '2|blush thistle blue yellow saddle|Manufacturer#1|Brand#13|LARGE BRUSHED BRASS|1|LG CASE|902.00|lar accounts amo|',\n '3|spring green yellow purple cornsilk|Manufacturer#4|Brand#42|STANDARD POLISHED BRASS|21|WRAP CASE|903.00|egular deposits hag|',\n '4|cornflower chocolate smoke green pink|Manufacturer#3|Brand#34|SMALL PLATED BRASS|14|MED DRUM|904.00|p furiously r|',\n '5|forest brown coral puff cream|Manufacturer#3|Brand#32|STANDARD POLISHED TIN|15|SM PKG|905.00| wake carefully |',\n '6|bisque cornflower lawn forest magenta|Manufacturer#2|Brand#24|PROMO PLATED STEEL|4|MED BAG|906.00|sual a|',\n '7|moccasin green thistle khaki floral|Manufacturer#1|Brand#11|SMALL PLATED COPPER|45|SM BAG|907.00|lyly. ex|',\n '8|misty lace thistle snow royal|Manufacturer#4|Brand#44|PROMO BURNISHED TIN|41|LG DRUM|908.00|eposi|',\n '9|thistle dim navajo dark gainsboro|Manufacturer#4|Brand#43|SMALL BURNISHED STEEL|12|WRAP CASE|909.00|ironic foxe|',\n '10|linen pink saddle puff powder|Manufacturer#5|Brand#54|LARGE BURNISHED STEEL|44|LG CAN|910.01|ithely final deposit|']"
     ]
    }
   ],
   "source": [
    "# Read input part dataset as RDD[String]\n",
    "part_input = sc.textFile(\"/databricks-datasets/tpch/data-001/part/\")\n",
    "part_input.take(10)"
   ]
  },
  {
   "cell_type": "code",
   "execution_count": 0,
   "metadata": {
    "application/vnd.databricks.v1+cell": {
     "cellMetadata": {
      "byteLimit": 2048000,
      "rowLimit": 10000
     },
     "inputWidgets": {},
     "nuid": "65938c94-35a1-4441-9dc0-e3d34af3d673",
     "showTitle": false,
     "title": ""
    }
   },
   "outputs": [
    {
     "output_type": "stream",
     "name": "stdout",
     "output_type": "stream",
     "text": [
      "Out[4]: [['1',\n  'goldenrod lavender spring chocolate lace',\n  'Manufacturer#1',\n  'Brand#13',\n  'PROMO BURNISHED COPPER',\n  '7',\n  'JUMBO PKG',\n  '901.00',\n  'ly. slyly ironi',\n  ''],\n ['2',\n  'blush thistle blue yellow saddle',\n  'Manufacturer#1',\n  'Brand#13',\n  'LARGE BRUSHED BRASS',\n  '1',\n  'LG CASE',\n  '902.00',\n  'lar accounts amo',\n  ''],\n ['3',\n  'spring green yellow purple cornsilk',\n  'Manufacturer#4',\n  'Brand#42',\n  'STANDARD POLISHED BRASS',\n  '21',\n  'WRAP CASE',\n  '903.00',\n  'egular deposits hag',\n  ''],\n ['4',\n  'cornflower chocolate smoke green pink',\n  'Manufacturer#3',\n  'Brand#34',\n  'SMALL PLATED BRASS',\n  '14',\n  'MED DRUM',\n  '904.00',\n  'p furiously r',\n  ''],\n ['5',\n  'forest brown coral puff cream',\n  'Manufacturer#3',\n  'Brand#32',\n  'STANDARD POLISHED TIN',\n  '15',\n  'SM PKG',\n  '905.00',\n  ' wake carefully ',\n  ''],\n ['6',\n  'bisque cornflower lawn forest magenta',\n  'Manufacturer#2',\n  'Brand#24',\n  'PROMO PLATED STEEL',\n  '4',\n  'MED BAG',\n  '906.00',\n  'sual a',\n  ''],\n ['7',\n  'moccasin green thistle khaki floral',\n  'Manufacturer#1',\n  'Brand#11',\n  'SMALL PLATED COPPER',\n  '45',\n  'SM BAG',\n  '907.00',\n  'lyly. ex',\n  ''],\n ['8',\n  'misty lace thistle snow royal',\n  'Manufacturer#4',\n  'Brand#44',\n  'PROMO BURNISHED TIN',\n  '41',\n  'LG DRUM',\n  '908.00',\n  'eposi',\n  ''],\n ['9',\n  'thistle dim navajo dark gainsboro',\n  'Manufacturer#4',\n  'Brand#43',\n  'SMALL BURNISHED STEEL',\n  '12',\n  'WRAP CASE',\n  '909.00',\n  'ironic foxe',\n  ''],\n ['10',\n  'linen pink saddle puff powder',\n  'Manufacturer#5',\n  'Brand#54',\n  'LARGE BURNISHED STEEL',\n  '44',\n  'LG CAN',\n  '910.01',\n  'ithely final deposit',\n  '']]"
     ]
    }
   ],
   "source": [
    "# Split the input data\n",
    "part_input_splitted = part_input.map(lambda p: p.split('|'))\n",
    "part_input_splitted.take(10)"
   ]
  },
  {
   "cell_type": "markdown",
   "metadata": {
    "application/vnd.databricks.v1+cell": {
     "cellMetadata": {},
     "inputWidgets": {},
     "nuid": "4329f2b2-8b41-4f08-9549-cb653acd96ce",
     "showTitle": false,
     "title": ""
    }
   },
   "source": [
    " Apply simple filteration for malformed records"
   ]
  },
  {
   "cell_type": "code",
   "execution_count": 0,
   "metadata": {
    "application/vnd.databricks.v1+cell": {
     "cellMetadata": {},
     "inputWidgets": {},
     "nuid": "097a811e-a59b-46cc-a354-fb299f69c89a",
     "showTitle": false,
     "title": ""
    }
   },
   "outputs": [],
   "source": [
    "%sql\n",
    "CREATE TABLE PART  ( P_PARTKEY     INTEGER NOT NULL,\n",
    "          P_NAME        VARCHAR(55) NOT NULL,\n",
    "          P_MFGR        CHAR(25) NOT NULL,\n",
    "          P_BRAND       CHAR(10) NOT NULL,\n",
    "          P_TYPE        VARCHAR(25) NOT NULL,\n",
    "          P_SIZE        INTEGER NOT NULL,\n",
    "          P_CONTAINER   CHAR(10) NOT NULL,\n",
    "          P_RETAILPRICE DECIMAL(15,2) NOT NULL,\n",
    "          P_COMMENT     VARCHAR(23) NOT NULL,\n",
    "          PRIMARY KEY (P_PARTKEY));\n",
    "CREATE TABLE PARTSUPP ( PS_PARTKEY     INTEGER NOT NULL,\n",
    "            PS_SUPPKEY     INTEGER NOT NULL,\n",
    "            PS_AVAILQTY    INTEGER NOT NULL,\n",
    "            PS_SUPPLYCOST  DECIMAL(15,2)  NOT NULL,\n",
    "            PS_COMMENT     VARCHAR(199) NOT NULL,\n",
    "            PRIMARY KEY (PS_PARTKEY, PS_SUPPKEY));"
   ]
  },
  {
   "cell_type": "code",
   "execution_count": 0,
   "metadata": {
    "application/vnd.databricks.v1+cell": {
     "cellMetadata": {
      "byteLimit": 2048000,
      "rowLimit": 10000
     },
     "inputWidgets": {},
     "nuid": "43beab26-be04-4605-a44a-5cd3fce46290",
     "showTitle": false,
     "title": ""
    }
   },
   "outputs": [
    {
     "output_type": "stream",
     "name": "stdout",
     "output_type": "stream",
     "text": [
      "Out[5]: [['1',\n  'goldenrod lavender spring chocolate lace',\n  'Manufacturer#1',\n  'Brand#13',\n  'PROMO BURNISHED COPPER',\n  '7',\n  'JUMBO PKG',\n  '901.00',\n  'ly. slyly ironi',\n  ''],\n ['2',\n  'blush thistle blue yellow saddle',\n  'Manufacturer#1',\n  'Brand#13',\n  'LARGE BRUSHED BRASS',\n  '1',\n  'LG CASE',\n  '902.00',\n  'lar accounts amo',\n  ''],\n ['3',\n  'spring green yellow purple cornsilk',\n  'Manufacturer#4',\n  'Brand#42',\n  'STANDARD POLISHED BRASS',\n  '21',\n  'WRAP CASE',\n  '903.00',\n  'egular deposits hag',\n  ''],\n ['4',\n  'cornflower chocolate smoke green pink',\n  'Manufacturer#3',\n  'Brand#34',\n  'SMALL PLATED BRASS',\n  '14',\n  'MED DRUM',\n  '904.00',\n  'p furiously r',\n  ''],\n ['5',\n  'forest brown coral puff cream',\n  'Manufacturer#3',\n  'Brand#32',\n  'STANDARD POLISHED TIN',\n  '15',\n  'SM PKG',\n  '905.00',\n  ' wake carefully ',\n  ''],\n ['6',\n  'bisque cornflower lawn forest magenta',\n  'Manufacturer#2',\n  'Brand#24',\n  'PROMO PLATED STEEL',\n  '4',\n  'MED BAG',\n  '906.00',\n  'sual a',\n  ''],\n ['7',\n  'moccasin green thistle khaki floral',\n  'Manufacturer#1',\n  'Brand#11',\n  'SMALL PLATED COPPER',\n  '45',\n  'SM BAG',\n  '907.00',\n  'lyly. ex',\n  ''],\n ['8',\n  'misty lace thistle snow royal',\n  'Manufacturer#4',\n  'Brand#44',\n  'PROMO BURNISHED TIN',\n  '41',\n  'LG DRUM',\n  '908.00',\n  'eposi',\n  ''],\n ['9',\n  'thistle dim navajo dark gainsboro',\n  'Manufacturer#4',\n  'Brand#43',\n  'SMALL BURNISHED STEEL',\n  '12',\n  'WRAP CASE',\n  '909.00',\n  'ironic foxe',\n  ''],\n ['10',\n  'linen pink saddle puff powder',\n  'Manufacturer#5',\n  'Brand#54',\n  'LARGE BURNISHED STEEL',\n  '44',\n  'LG CAN',\n  '910.01',\n  'ithely final deposit',\n  '']]"
     ]
    }
   ],
   "source": [
    "PART_SIZE = 10\n",
    "# Split part input and parse it into RDD[(partKey, Part)]\n",
    "part_mapped = part_input_splitted.filter(lambda arr: len(arr) == PART_SIZE)\n",
    "part_mapped.take(10)  "
   ]
  },
  {
   "cell_type": "code",
   "execution_count": 0,
   "metadata": {
    "application/vnd.databricks.v1+cell": {
     "cellMetadata": {
      "byteLimit": 2048000,
      "rowLimit": 10000
     },
     "inputWidgets": {},
     "nuid": "c25039db-2659-428d-bcc3-d0a9069cbd20",
     "showTitle": false,
     "title": ""
    }
   },
   "outputs": [
    {
     "output_type": "stream",
     "name": "stdout",
     "output_type": "stream",
     "text": [
      "Out[6]: []"
     ]
    }
   ],
   "source": [
    "# Catch the rejected records which aren't matching the case class size\n",
    "part_rejected = part_input_splitted.filter(lambda arr: len(arr) != PART_SIZE)\n",
    "####  Any better way to filter?\n",
    "part_rejected.take(10)"
   ]
  },
  {
   "cell_type": "code",
   "execution_count": 0,
   "metadata": {
    "application/vnd.databricks.v1+cell": {
     "cellMetadata": {
      "byteLimit": 2048000,
      "rowLimit": 10000
     },
     "inputWidgets": {},
     "nuid": "e8602ac4-7ea9-49b8-89d9-cacba5675e53",
     "showTitle": false,
     "title": ""
    }
   },
   "outputs": [
    {
     "output_type": "stream",
     "name": "stdout",
     "output_type": "stream",
     "text": [
      "Number of rejected records = 0\nNumber of parsed records = 1000000\n"
     ]
    }
   ],
   "source": [
    "# Display parsed and rejected records count\n",
    "print(f\"Number of rejected records = {part_rejected.count()}\")\n",
    "print(f\"Number of parsed records = {part_mapped.count()}\")"
   ]
  },
  {
   "cell_type": "markdown",
   "metadata": {
    "application/vnd.databricks.v1+cell": {
     "cellMetadata": {},
     "inputWidgets": {},
     "nuid": "5dfcfcff-a131-406d-91c0-b92f2cbdd31b",
     "showTitle": false,
     "title": ""
    }
   },
   "source": [
    "Transform it to key and value to apply Join"
   ]
  },
  {
   "cell_type": "code",
   "execution_count": 0,
   "metadata": {
    "application/vnd.databricks.v1+cell": {
     "cellMetadata": {
      "byteLimit": 2048000,
      "rowLimit": 10000
     },
     "inputWidgets": {},
     "nuid": "3c8b05b9-52f7-40bc-9dda-f795e99a5aad",
     "showTitle": false,
     "title": ""
    }
   },
   "outputs": [],
   "source": [
    "class Part:\n",
    "  def __init__(self, p_partkey, p_name, p_mfgr, p_brand, p_type, p_size, p_container, p_retailprice, p_comment):\n",
    "    self.p_partkey = p_partkey\n",
    "    self.p_name = p_name\n",
    "    self.p_mfgr = p_mfgr\n",
    "    self.p_brand = p_brand\n",
    "    self.p_type = p_type\n",
    "    self.p_size = p_size\n",
    "    self.p_container = p_container\n",
    "    self.p_retailprice = p_retailprice\n",
    "    self.p_comment = p_comment\n",
    "\n",
    "  def __repr__(self):\n",
    "    return f\"Part({self.p_partkey}, {self.p_name}, {self.p_mfgr}, {self.p_brand}, {self.p_type}, {self.p_size}, {self.p_container}, {self.p_retailprice}, {self.p_comment})\""
   ]
  },
  {
   "cell_type": "code",
   "execution_count": 0,
   "metadata": {
    "application/vnd.databricks.v1+cell": {
     "cellMetadata": {
      "byteLimit": 2048000,
      "rowLimit": 10000
     },
     "inputWidgets": {},
     "nuid": "e89bd32a-4512-436e-9879-3cfcf87b45ae",
     "showTitle": false,
     "title": ""
    }
   },
   "outputs": [
    {
     "output_type": "stream",
     "name": "stdout",
     "output_type": "stream",
     "text": [
      "Out[9]: [(1,\n  Part(1, goldenrod lavender spring chocolate lace, Manufacturer#1, Brand#13, PROMO BURNISHED COPPER, 7, JUMBO PKG, 901.0, ly. slyly ironi)),\n (2,\n  Part(2, blush thistle blue yellow saddle, Manufacturer#1, Brand#13, LARGE BRUSHED BRASS, 1, LG CASE, 902.0, lar accounts amo)),\n (3,\n  Part(3, spring green yellow purple cornsilk, Manufacturer#4, Brand#42, STANDARD POLISHED BRASS, 21, WRAP CASE, 903.0, egular deposits hag)),\n (4,\n  Part(4, cornflower chocolate smoke green pink, Manufacturer#3, Brand#34, SMALL PLATED BRASS, 14, MED DRUM, 904.0, p furiously r)),\n (5,\n  Part(5, forest brown coral puff cream, Manufacturer#3, Brand#32, STANDARD POLISHED TIN, 15, SM PKG, 905.0,  wake carefully )),\n (6,\n  Part(6, bisque cornflower lawn forest magenta, Manufacturer#2, Brand#24, PROMO PLATED STEEL, 4, MED BAG, 906.0, sual a)),\n (7,\n  Part(7, moccasin green thistle khaki floral, Manufacturer#1, Brand#11, SMALL PLATED COPPER, 45, SM BAG, 907.0, lyly. ex)),\n (8,\n  Part(8, misty lace thistle snow royal, Manufacturer#4, Brand#44, PROMO BURNISHED TIN, 41, LG DRUM, 908.0, eposi)),\n (9,\n  Part(9, thistle dim navajo dark gainsboro, Manufacturer#4, Brand#43, SMALL BURNISHED STEEL, 12, WRAP CASE, 909.0, ironic foxe)),\n (10,\n  Part(10, linen pink saddle puff powder, Manufacturer#5, Brand#54, LARGE BURNISHED STEEL, 44, LG CAN, 910.01, ithely final deposit))]"
     ]
    }
   ],
   "source": [
    "part_transformed = part_mapped.map(lambda arr: (int(arr[0]), Part(int(arr[0]), arr[1], arr[2], arr[3], arr[4], int(arr[5]), arr[6], float(arr[7]), arr[8])))\n",
    "part_transformed.take(10)\n",
    "\n",
    "# RDD [(Int, Part)]"
   ]
  },
  {
   "cell_type": "markdown",
   "metadata": {
    "application/vnd.databricks.v1+cell": {
     "cellMetadata": {},
     "inputWidgets": {},
     "nuid": "0e8ea2ff-bdf2-497b-8b83-f0aff5ed3510",
     "showTitle": false,
     "title": ""
    }
   },
   "source": [
    "### Read and Parse the partsupp Dataset"
   ]
  },
  {
   "cell_type": "code",
   "execution_count": 0,
   "metadata": {
    "application/vnd.databricks.v1+cell": {
     "cellMetadata": {
      "byteLimit": 2048000,
      "rowLimit": 10000
     },
     "inputWidgets": {},
     "nuid": "1ae81825-d5ab-4992-8f5d-4faa7e769868",
     "showTitle": false,
     "title": ""
    }
   },
   "outputs": [
    {
     "output_type": "stream",
     "name": "stdout",
     "output_type": "stream",
     "text": [
      "Out[10]: ['1|2|3325|771.64|, even theodolites. regular, final theodolites eat after the carefully pending foxes. furiously regular deposits sleep slyly. carefully bold realms above the ironic dependencies haggle careful|',\n '1|12502|8076|993.49|ven ideas. quickly even packages print. pending multipliers must have to are fluff|',\n '1|25002|3956|337.09|after the fluffily ironic deposits? blithely special dependencies integrate furiously even excuses. blithely silent theodolites could have to haggle pending, express requests; fu|',\n '1|37502|4069|357.84|al, regular dependencies serve carefully after the quickly final pinto beans. furiously even deposits sleep quickly final, silent pinto beans. fluffily reg|',\n '2|3|8895|378.49|nic accounts. final accounts sleep furiously about the ironic, bold packages. regular, regular accounts|',\n '2|12503|4969|915.27|ptotes. quickly pending dependencies integrate furiously. fluffily ironic ideas impress blithely above the express accounts. furiously even epitaphs need to wak|',\n '2|25003|8539|438.37|blithely bold ideas. furiously stealthy packages sleep fluffily. slyly special deposits snooze furiously carefully regular accounts. regular deposits according to the accounts nag carefully slyl|',\n '2|37503|3025|306.39|olites. deposits wake carefully. even, express requests cajole. carefully regular ex|',\n '3|4|4651|920.92|ilent foxes affix furiously quickly unusual requests. even packages across the carefully even theodolites nag above the sp|',\n '3|12504|4093|498.13|ending dependencies haggle fluffily. regular deposits boost quickly carefully regular requests. deposits affix furiously around the pinto beans. ironic, unusual platelets across the p|']"
     ]
    }
   ],
   "source": [
    "# Read input partSupp dataset as RDD[String]\n",
    "partsupp_input = sc.textFile(\"/databricks-datasets/tpch/data-001/partsupp/\")\n",
    "partsupp_input.take(10)"
   ]
  },
  {
   "cell_type": "code",
   "execution_count": 0,
   "metadata": {
    "application/vnd.databricks.v1+cell": {
     "cellMetadata": {
      "byteLimit": 2048000,
      "rowLimit": 10000
     },
     "inputWidgets": {},
     "nuid": "dec38a37-b27b-46b2-9664-9992366c4799",
     "showTitle": false,
     "title": ""
    }
   },
   "outputs": [
    {
     "output_type": "stream",
     "name": "stdout",
     "output_type": "stream",
     "text": [
      "Out[11]: [['1',\n  '2',\n  '3325',\n  '771.64',\n  ', even theodolites. regular, final theodolites eat after the carefully pending foxes. furiously regular deposits sleep slyly. carefully bold realms above the ironic dependencies haggle careful',\n  ''],\n ['1',\n  '12502',\n  '8076',\n  '993.49',\n  'ven ideas. quickly even packages print. pending multipliers must have to are fluff',\n  ''],\n ['1',\n  '25002',\n  '3956',\n  '337.09',\n  'after the fluffily ironic deposits? blithely special dependencies integrate furiously even excuses. blithely silent theodolites could have to haggle pending, express requests; fu',\n  ''],\n ['1',\n  '37502',\n  '4069',\n  '357.84',\n  'al, regular dependencies serve carefully after the quickly final pinto beans. furiously even deposits sleep quickly final, silent pinto beans. fluffily reg',\n  ''],\n ['2',\n  '3',\n  '8895',\n  '378.49',\n  'nic accounts. final accounts sleep furiously about the ironic, bold packages. regular, regular accounts',\n  ''],\n ['2',\n  '12503',\n  '4969',\n  '915.27',\n  'ptotes. quickly pending dependencies integrate furiously. fluffily ironic ideas impress blithely above the express accounts. furiously even epitaphs need to wak',\n  ''],\n ['2',\n  '25003',\n  '8539',\n  '438.37',\n  'blithely bold ideas. furiously stealthy packages sleep fluffily. slyly special deposits snooze furiously carefully regular accounts. regular deposits according to the accounts nag carefully slyl',\n  ''],\n ['2',\n  '37503',\n  '3025',\n  '306.39',\n  'olites. deposits wake carefully. even, express requests cajole. carefully regular ex',\n  ''],\n ['3',\n  '4',\n  '4651',\n  '920.92',\n  'ilent foxes affix furiously quickly unusual requests. even packages across the carefully even theodolites nag above the sp',\n  ''],\n ['3',\n  '12504',\n  '4093',\n  '498.13',\n  'ending dependencies haggle fluffily. regular deposits boost quickly carefully regular requests. deposits affix furiously around the pinto beans. ironic, unusual platelets across the p',\n  '']]"
     ]
    }
   ],
   "source": [
    "# Split the input data\n",
    "partsupp_input_splitted = partsupp_input.map(lambda p: p.split('|'))\n",
    "partsupp_input_splitted.take(10)"
   ]
  },
  {
   "cell_type": "code",
   "execution_count": 0,
   "metadata": {
    "application/vnd.databricks.v1+cell": {
     "cellMetadata": {
      "byteLimit": 2048000,
      "rowLimit": 10000
     },
     "inputWidgets": {},
     "nuid": "5162d48e-203c-425e-8f69-f7fc51f5b3a1",
     "showTitle": false,
     "title": ""
    }
   },
   "outputs": [],
   "source": [
    "class PartSupp:\n",
    "  def __init__(self, ps_partkey, ps_suppkey, ps_availqty, ps_supplycost, ps_comment):\n",
    "    self.ps_partkey = ps_partkey\n",
    "    self.ps_suppkey = ps_suppkey\n",
    "    self.ps_availqty = ps_availqty\n",
    "    self.ps_supplycost = ps_supplycost\n",
    "    self.ps_comment = ps_comment\n",
    "\n",
    "  def __repr__(self):\n",
    "    return f\"PartSupp({self.ps_partkey}, {self.ps_suppkey}, {self.ps_availqty}, {self.ps_supplycost}, {self.ps_comment})\""
   ]
  },
  {
   "cell_type": "code",
   "execution_count": 0,
   "metadata": {
    "application/vnd.databricks.v1+cell": {
     "cellMetadata": {
      "byteLimit": 2048000,
      "rowLimit": 10000
     },
     "inputWidgets": {},
     "nuid": "ac1b96ac-f540-4182-af4c-55373607cfd5",
     "showTitle": false,
     "title": ""
    }
   },
   "outputs": [
    {
     "output_type": "stream",
     "name": "stdout",
     "output_type": "stream",
     "text": [
      "Out[13]: [(1,\n  PartSupp(1, 2, 3325, 771.64, , even theodolites. regular, final theodolites eat after the carefully pending foxes. furiously regular deposits sleep slyly. carefully bold realms above the ironic dependencies haggle careful)),\n (1,\n  PartSupp(1, 12502, 8076, 993.49, ven ideas. quickly even packages print. pending multipliers must have to are fluff)),\n (1,\n  PartSupp(1, 25002, 3956, 337.09, after the fluffily ironic deposits? blithely special dependencies integrate furiously even excuses. blithely silent theodolites could have to haggle pending, express requests; fu)),\n (1,\n  PartSupp(1, 37502, 4069, 357.84, al, regular dependencies serve carefully after the quickly final pinto beans. furiously even deposits sleep quickly final, silent pinto beans. fluffily reg)),\n (2,\n  PartSupp(2, 3, 8895, 378.49, nic accounts. final accounts sleep furiously about the ironic, bold packages. regular, regular accounts)),\n (2,\n  PartSupp(2, 12503, 4969, 915.27, ptotes. quickly pending dependencies integrate furiously. fluffily ironic ideas impress blithely above the express accounts. furiously even epitaphs need to wak)),\n (2,\n  PartSupp(2, 25003, 8539, 438.37, blithely bold ideas. furiously stealthy packages sleep fluffily. slyly special deposits snooze furiously carefully regular accounts. regular deposits according to the accounts nag carefully slyl)),\n (2,\n  PartSupp(2, 37503, 3025, 306.39, olites. deposits wake carefully. even, express requests cajole. carefully regular ex)),\n (3,\n  PartSupp(3, 4, 4651, 920.92, ilent foxes affix furiously quickly unusual requests. even packages across the carefully even theodolites nag above the sp)),\n (3,\n  PartSupp(3, 12504, 4093, 498.13, ending dependencies haggle fluffily. regular deposits boost quickly carefully regular requests. deposits affix furiously around the pinto beans. ironic, unusual platelets across the p))]"
     ]
    }
   ],
   "source": [
    "PARTSUPP_SIZE = 6\n",
    "# Split partSupp input and parse it into RDD[(partKey, PartSupp)]\n",
    "partsupp_mapped = partsupp_input_splitted \\\n",
    "  .filter(lambda arr: len(arr) == PARTSUPP_SIZE) \\\n",
    "  .map(lambda arr: (int(arr[0]), PartSupp(int(arr[0]), int(arr[1]), int(arr[2]), float(arr[3]), arr[4])))\n",
    "partsupp_mapped.take(10)\n",
    "# RDD [ (integer , PartSupp)]"
   ]
  },
  {
   "cell_type": "code",
   "execution_count": 0,
   "metadata": {
    "application/vnd.databricks.v1+cell": {
     "cellMetadata": {
      "byteLimit": 2048000,
      "rowLimit": 10000
     },
     "inputWidgets": {},
     "nuid": "0463b908-435b-462a-ac40-16b82e4f2cf8",
     "showTitle": false,
     "title": ""
    }
   },
   "outputs": [
    {
     "output_type": "stream",
     "name": "stdout",
     "output_type": "stream",
     "text": [
      "Number of rejected records = 0\nNumber of parsed records = 4000000\n"
     ]
    }
   ],
   "source": [
    "# Catch the rejected records which aren't matching the case class size\n",
    "partsupp_rejected = partsupp_input_splitted.filter(lambda arr: len(arr) != PARTSUPP_SIZE)\n",
    "# Display parsed and rejected records count\n",
    "print(f\"Number of rejected records = {partsupp_rejected.count()}\")\n",
    "print(f\"Number of parsed records = {partsupp_mapped.count()}\")"
   ]
  },
  {
   "cell_type": "markdown",
   "metadata": {
    "application/vnd.databricks.v1+cell": {
     "cellMetadata": {},
     "inputWidgets": {},
     "nuid": "8c6e2735-0012-40ad-a81d-eabedcbfa576",
     "showTitle": false,
     "title": ""
    }
   },
   "source": [
    "### Join the part and partsupp Datasets"
   ]
  },
  {
   "cell_type": "code",
   "execution_count": 0,
   "metadata": {
    "application/vnd.databricks.v1+cell": {
     "cellMetadata": {
      "byteLimit": 2048000,
      "rowLimit": 10000
     },
     "inputWidgets": {},
     "nuid": "2635dc4f-f9c4-4705-a3be-bf236cb8861b",
     "showTitle": false,
     "title": ""
    }
   },
   "outputs": [
    {
     "output_type": "stream",
     "name": "stdout",
     "output_type": "stream",
     "text": [
      "(22, (Part(22, medium forest blue ghost black, Manufacturer#4, Brand#43, PROMO POLISHED BRASS, 19, LG DRUM, 922.02,  even p), PartSupp(22, 23, 4410, 786.18, even accounts. final excuses try to sleep regular, even packages. carefully express dolphins cajole; furiously special pinto bea)))\n(22, (Part(22, medium forest blue ghost black, Manufacturer#4, Brand#43, PROMO POLISHED BRASS, 19, LG DRUM, 922.02,  even p), PartSupp(22, 12523, 9779, 635.84, l instructions cajole across the blithely special deposits. blithely pending accounts use thinly slyly final requests. instructions haggle. pinto beans sleep along the slyly pen)))\n(22, (Part(22, medium forest blue ghost black, Manufacturer#4, Brand#43, PROMO POLISHED BRASS, 19, LG DRUM, 922.02,  even p), PartSupp(22, 25023, 7834, 359.16, sits wake fluffily carefully stealthy accounts. furiously ironic requests x-ray fluffily alongside of the pending asymptotes. slyly silent packages use along the instructions. fu)))\n(22, (Part(22, medium forest blue ghost black, Manufacturer#4, Brand#43, PROMO POLISHED BRASS, 19, LG DRUM, 922.02,  even p), PartSupp(22, 37523, 1434, 597.21, ix across the blithely express packages. carefully regular pinto beans boost across the special, pending d)))\n(781, (Part(781, light orchid purple black navy, Manufacturer#1, Brand#13, ECONOMY PLATED STEEL, 22, LG DRUM, 1681.78, gular, regu), PartSupp(781, 782, 3475, 579.21, ual deposits are quickly after the slyly regular packages. blithely silent theodolites sleep. requests integrate quickly. furiously pending requests are above the regular deposits. slyly express acc)))\n(781, (Part(781, light orchid purple black navy, Manufacturer#1, Brand#13, ECONOMY PLATED STEEL, 22, LG DRUM, 1681.78, gular, regu), PartSupp(781, 13282, 7796, 764.34, ke. furiously regular deposits wake thinly. fluffily special excuses wake carefully. bold package)))\n(781, (Part(781, light orchid purple black navy, Manufacturer#1, Brand#13, ECONOMY PLATED STEEL, 22, LG DRUM, 1681.78, gular, regu), PartSupp(781, 25782, 3424, 255.15, s are. ironic, unusual deposits after the express instructions cajole amon)))\n(781, (Part(781, light orchid purple black navy, Manufacturer#1, Brand#13, ECONOMY PLATED STEEL, 22, LG DRUM, 1681.78, gular, regu), PartSupp(781, 38282, 9903, 774.28,  the courts. slyly regular packages sleep slyly. regular packages cajole quickly according to th)))\n(1672, (Part(1672, green medium salmon white papaya, Manufacturer#5, Brand#52, LARGE ANODIZED STEEL, 41, MED CAN, 1573.67, . pint), PartSupp(1672, 1673, 2653, 191.7, orges haggle. furiously regular accounts use. final frays wake around the even, even foxes. enticingly bold pinto beans affix carefully. final accounts nag)))\n(1672, (Part(1672, green medium salmon white papaya, Manufacturer#5, Brand#52, LARGE ANODIZED STEEL, 41, MED CAN, 1573.67, . pint), PartSupp(1672, 14173, 8873, 439.17, the ironic, special ideas. blithely ironic grouches sleep furiously. excuses wake! even, pending instructions believe quickly unusual requests. blithely special pinto bean)))\n"
     ]
    }
   ],
   "source": [
    "# PartRDD -> RDD[ (integer, Part)]\n",
    "# PartSuppRDD -> RDD [ (integer, PartSupp)]\n",
    "# JoinedRDD -> RDD [(integer,(Part,PartSupp)) ]\n",
    "# Perform inner join on part and partsupp datasets\n",
    "part_joined_partsupp = part_transformed.join(partsupp_mapped)\n",
    "\n",
    "# Take the first 10 elements of the joined RDD and print them\n",
    "for record in part_joined_partsupp.take(10):\n",
    "     print(record)\n"
   ]
  },
  {
   "cell_type": "code",
   "execution_count": 0,
   "metadata": {
    "application/vnd.databricks.v1+cell": {
     "cellMetadata": {
      "byteLimit": 2048000,
      "rowLimit": 10000
     },
     "inputWidgets": {},
     "nuid": "0ba35448-4555-44d9-9345-5f0a08feeb3a",
     "showTitle": false,
     "title": ""
    }
   },
   "outputs": [
    {
     "output_type": "stream",
     "name": "stdout",
     "output_type": "stream",
     "text": [
      "Number of joined records = 4000000\n"
     ]
    }
   ],
   "source": [
    "# Print the count of joined records\n",
    "print(f\"Number of joined records = {part_joined_partsupp.count()}\")"
   ]
  }
 ],
 "metadata": {
  "application/vnd.databricks.v1+notebook": {
   "dashboards": [],
   "environmentMetadata": null,
   "language": "python",
   "notebookMetadata": {
    "pythonIndentUnit": 4
   },
   "notebookName": "Join RDD",
   "widgets": {}
  }
 },
 "nbformat": 4,
 "nbformat_minor": 0
}
